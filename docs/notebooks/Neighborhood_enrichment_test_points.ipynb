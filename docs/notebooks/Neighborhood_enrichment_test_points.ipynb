{
 "cells": [
  {
   "cell_type": "markdown",
   "id": "cb68a32d-fd73-4698-9b59-307b134d98e5",
   "metadata": {},
   "source": [
    "# Neighborhood enrichment test on points data\n",
    "\n",
    "This tutorial explains how to conduct a neighborhood enrichment test (see [Wählby et al. (2022)](https://www.frontiersin.org/articles/10.3389/fphys.2022) for explanation) with napari-spatial-statistics. This function uses the [Squidpy](https://squidpy.readthedocs.io/en/stable/index.html) spatial statistics platform."
   ]
  },
  {
   "cell_type": "code",
   "execution_count": null,
   "id": "960a068e-18e4-4697-a7a7-01e7ec4838fc",
   "metadata": {},
   "outputs": [],
   "source": [
    "import napari \n",
    "import napari_spatial_statistics as nss\n",
    "import matplotlib.pyplot as plt"
   ]
  },
  {
   "cell_type": "code",
   "execution_count": null,
   "id": "e0b55ca1-c571-48db-96ef-e89e8964c018",
   "metadata": {},
   "outputs": [],
   "source": [
    "points = nss.make_random_points(n_points=1000, n_classes=2, spatial_size=1000, randomness=3, dim=3)"
   ]
  },
  {
   "cell_type": "markdown",
   "id": "b2630e33-11f9-4ef3-a34f-44df4768f860",
   "metadata": {},
   "source": [
    "This shows the created point distribution. The locations of the created points are  obviously correlated:"
   ]
  },
  {
   "cell_type": "code",
   "execution_count": null,
   "id": "bc870675-ea7a-42b3-b686-e63a51d095e6",
   "metadata": {},
   "outputs": [],
   "source": [
    "viewer = napari.Viewer(ndisplay=3)\n",
    "pts_layer = viewer.add_points(points[0], **points[1])\n",
    "napari.utils.nbscreenshot(viewer, canvas_only=False)"
   ]
  },
  {
   "cell_type": "markdown",
   "id": "c68e509e-b5d2-4773-85f5-43b0be2fc594",
   "metadata": {},
   "source": [
    "First, we need to define a neighborhood criteria between points. This will determine which set of points will be considered to be neighbors of each other - and which aren't. Napari-spatial-statistics provides a set of functions for this:\n",
    "\n",
    "* `nss.distance_ckdtree()`: Distance-based neighborhood implemented in [scipy](https://docs.scipy.org/doc/scipy/reference/generated/scipy.spatial.cKDTree.html)\n",
    "* `nss.distance_squidpy()`: Distance-based neighborhood implement in [Squidpy](https://squidpy.readthedocs.io/en/stable/auto_examples/graph/compute_spatial_neighbors.html)\n",
    "* `nss.knearest_ckdtree()`: N-nearest neighbors implemented in [scipy](https://docs.scipy.org/doc/scipy/reference/generated/scipy.spatial.cKDTree.query.html#scipy.spatial.cKDTree.query)\n",
    "\n",
    "*Note*: These functions operate on `napari.layer.Points` types, since the required point type information and the determined neighborhood information are store in `layer.properties`"
   ]
  },
  {
   "cell_type": "code",
   "execution_count": null,
   "id": "d75f5f9c-5d23-4d72-8c42-ea3aae6d0b67",
   "metadata": {},
   "outputs": [],
   "source": [
    "properties = nss.distance_ckdtree(points, radius=10, viewer=viewer)  # viewer parameter is optional, but creates a table to show list of neighboring points\n",
    "napari.utils.nbscreenshot(viewer, canvas_only=False)"
   ]
  },
  {
   "cell_type": "code",
   "execution_count": null,
   "id": "16bfdbcf-a862-47e9-81de-162fa3b78372",
   "metadata": {},
   "outputs": [],
   "source": [
    "fig, ax = plt.subplots(figsize=(7,7))\n",
    "results = nss.neighborhood_enrichment_test(points[0], properties=properties, on_feature='Cell type', n_permutations=1000, ax=ax)"
   ]
  },
  {
   "cell_type": "markdown",
   "id": "fd75de0c-dff6-4c15-a586-58533eab8716",
   "metadata": {},
   "source": [
    "This tells us that we are finding *a lot* of type `2` cells in the neighborhood of type `1` cells and vice versa as compared to what we would expect if the point identities were distributed randomly. We can now repeat this analysis and add more randomness to the data:"
   ]
  },
  {
   "cell_type": "code",
   "execution_count": null,
   "id": "f3cc3e7e-72cc-42ed-af9e-7cac7d5d4cb5",
   "metadata": {},
   "outputs": [],
   "source": [
    "pts_layer.visible=False\n",
    "points = nss.make_random_points(n_points=1000, n_classes=2, spatial_size=1000, randomness=100, dim=3)\n",
    "viewer.add_points(points[0], **points[1])\n",
    "napari.utils.nbscreenshot(viewer, canvas_only=False)"
   ]
  },
  {
   "cell_type": "code",
   "execution_count": null,
   "id": "09d39922-4abd-49ab-b0e2-bc8b9c47ed69",
   "metadata": {},
   "outputs": [],
   "source": [
    "fig, ax = plt.subplots(figsize=(7,7))\n",
    "properties = nss.distance_ckdtree(points, radius=10, viewer=viewer)  # viewer parameter is optional, but creates a table to show list of neighboring points\n",
    "results = nss.neighborhood_enrichment_test(points[0], properties=properties, on_feature='Cell type', n_permutations=1000, ax=ax)"
   ]
  },
  {
   "cell_type": "markdown",
   "id": "3cc797ab-ea6f-4f11-a319-66da2faba830",
   "metadata": {},
   "source": [
    "We now see lower z-scores close to zero (note the colorbar on the right-hand site) which indicates that the presence of type `2` cells in the neighborhoood of type `1` cells (and vice versa) is close to random. You can retrieve the raw z-score values from the `results` variable with:"
   ]
  },
  {
   "cell_type": "code",
   "execution_count": null,
   "id": "e88a6400-ed59-4a70-917f-06343dd13690",
   "metadata": {},
   "outputs": [],
   "source": [
    "results['zscore']"
   ]
  },
  {
   "cell_type": "code",
   "execution_count": null,
   "id": "3ba009b1-566b-44ca-bb9b-c5746b18d7e4",
   "metadata": {},
   "outputs": [],
   "source": []
  }
 ],
 "metadata": {
  "kernelspec": {
   "display_name": "Python 3 (ipykernel)",
   "language": "python",
   "name": "python3"
  },
  "language_info": {
   "codemirror_mode": {
    "name": "ipython",
    "version": 3
   },
   "file_extension": ".py",
   "mimetype": "text/x-python",
   "name": "python",
   "nbconvert_exporter": "python",
   "pygments_lexer": "ipython3",
   "version": "3.8.12"
  }
 },
 "nbformat": 4,
 "nbformat_minor": 5
}
